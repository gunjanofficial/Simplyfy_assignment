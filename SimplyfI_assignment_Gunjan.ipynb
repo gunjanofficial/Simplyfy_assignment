{
 "cells": [
  {
   "cell_type": "code",
   "execution_count": null,
   "id": "0523b77a-4e89-49b4-a504-a7f355542fab",
   "metadata": {},
   "outputs": [],
   "source": [
    "Q.Question 1\n",
    "Write a python code for converting integer values to Indian currency notations, without\n",
    "using the currency libraries\n",
    "Example:\n",
    "input: 504678\n",
    "output: 5,04,678"
   ]
  },
  {
   "cell_type": "code",
   "execution_count": 51,
   "id": "44247773-3973-44c9-80d6-33058b3b12cc",
   "metadata": {},
   "outputs": [
    {
     "name": "stdout",
     "output_type": "stream",
     "text": [
      "504678\n",
      "['678']\n",
      "504\n",
      "['678', '04']\n",
      "['678', '04', '5']\n",
      "integer values to Indian currency notations 5,04,678\n"
     ]
    }
   ],
   "source": [
    "num = 504678\n",
    "num_str = str(num)\n",
    "print(num_str) \n",
    "# If the number is less than or equal to 3 digit ,return it as is\n",
    "if len(num_str) <= 3:\n",
    "    print(num_str)  \n",
    "#create the empty list\n",
    "parts = []\n",
    "#Append the last 3 digit\n",
    "parts.append(num_str[-3:])\n",
    "print(parts)  \n",
    "# Remove the last 3 digits from original num\n",
    "num_str = num_str[:-3]  \n",
    "print(num_str)  \n",
    "# process the remaining number in two group\n",
    "while len(num_str) > 2:\n",
    "    # add the last two digit number in parts list\n",
    "    parts.append(num_str[-2:])\n",
    "    #remove the last two digit from number\n",
    "    num_str = num_str[:-2]\n",
    "    print(parts)  \n",
    "# if any digit are left add them parts list\n",
    "if num_str:\n",
    "    parts.append(num_str)\n",
    "print(parts)  \n",
    "# stored the numbers in string variable and reverse the parts list and join them with commas\n",
    "result=\",\".join(reversed(parts))\n",
    "print(\"integer values to Indian currency notations:\",result)"
   ]
  },
  {
   "cell_type": "code",
   "execution_count": null,
   "id": "06f41227-6f4a-4aa4-bd49-ba4f98a206c0",
   "metadata": {},
   "outputs": [],
   "source": []
  }
 ],
 "metadata": {
  "kernelspec": {
   "display_name": "Python 3 (ipykernel)",
   "language": "python",
   "name": "python3"
  },
  "language_info": {
   "codemirror_mode": {
    "name": "ipython",
    "version": 3
   },
   "file_extension": ".py",
   "mimetype": "text/x-python",
   "name": "python",
   "nbconvert_exporter": "python",
   "pygments_lexer": "ipython3",
   "version": "3.12.4"
  }
 },
 "nbformat": 4,
 "nbformat_minor": 5
}
